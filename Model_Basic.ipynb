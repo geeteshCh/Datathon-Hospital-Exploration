{
 "cells": [
  {
   "cell_type": "code",
   "execution_count": 4,
   "id": "923a619b",
   "metadata": {},
   "outputs": [],
   "source": [
    "from sklearn.model_selection import train_test_split\n",
    "from tensorflow import keras\n",
    "from keras import layers\n",
    "from sklearn.preprocessing import StandardScaler\n",
    "from keras.models import load_model\n",
    "import pandas as pd"
   ]
  },
  {
   "cell_type": "code",
   "execution_count": 2,
   "id": "f193a74c",
   "metadata": {},
   "outputs": [],
   "source": [
    "def split_feature_label(df):\n",
    "    y = df['death']\n",
    "    X = df.drop(columns=['death'])\n",
    "    return y, X\n",
    "    # print(X)\n",
    "    # print(y)\n",
    "\n",
    "    # death_0 = y.tolist().count(0)\n",
    "    # death_1 = y.tolist().count(1)\n",
    "    # percent_death_0 = 100 * death_0 / (death_0 + death_1)\n",
    "    # percent_death_1 = 100 * death_1 / (death_0 + death_1)\n",
    "    # print(f'Survived: {death_0}, or {percent_death_0:.2f}%')\n",
    "    # print(f'Died: {death_1}, or {percent_death_1:.2f}%')\n",
    "\n",
    "def standardize(X):\n",
    "    scaler = StandardScaler()\n",
    "    X_numeric = scaler.fit_transform(X.select_dtypes(include=['float64']))\n",
    "    X[X.select_dtypes(include=['float64']).columns] = X_numeric\n",
    "    return X\n",
    "\n",
    "def train_model(X, y):\n",
    "    # Split data into training and validation\n",
    "    X_train, X_val, y_train, y_val = train_test_split(X, y, test_size=0.2, random_state=42)\n",
    "    X_val, X_test, y_val, y_test = train_test_split(X_val, y_val, test_size=.3, random_state=42)\n",
    "\n",
    "    # Define the neural network model\n",
    "    model = keras.Sequential([\n",
    "        layers.Input(shape=(X_train.shape[1],)),  # Input layer\n",
    "        layers.Dense(128, activation='relu'),     # Hidden layer with 128 neurons and ReLU activation\n",
    "        layers.Dense(64, activation='relu'),      # Another hidden layer with 64 neurons and ReLU activation\n",
    "        layers.Dense(1, activation='sigmoid')     # Output layer with sigmoid activation for binary classification\n",
    "    ])\n",
    "\n",
    "    # Compile the model\n",
    "    model.compile(optimizer='adam', loss='binary_crossentropy', metrics=['accuracy'])\n",
    "\n",
    "    # Train the model\n",
    "    history = model.fit(X_train, y_train, epochs=50, batch_size=32, validation_data=(X_val, y_val))\n",
    "\n",
    "    # Evaluate the model on the test set\n",
    "    test_loss, test_accuracy = model.evaluate(X_test, y_test)\n",
    "    \n",
    "    \n",
    "    model.save('example.h5')\n",
    "\n",
    "    \n",
    "    \n",
    "    print(f'Test accuracy: {test_accuracy}')\n",
    "\n",
    "    # Optionally, you can plot training history to visualize model performance\n",
    "    import matplotlib.pyplot as plt\n",
    "\n",
    "    plt.plot(history.history['accuracy'], label='accuracy')\n",
    "    plt.plot(history.history['val_accuracy'], label = 'val_accuracy')\n",
    "    plt.xlabel('Epoch')\n",
    "    plt.ylabel('Accuracy')\n",
    "    plt.ylim([0, 1])\n",
    "    plt.legend(loc='lower right')\n",
    "    plt.show()\n",
    "\n",
    "def run_model1(cleaned_data):\n",
    "    y, X = split_feature_label(cleaned_data)\n",
    "    X = standardize(X)\n",
    "    train_model(X, y)"
   ]
  },
  {
   "cell_type": "code",
   "execution_count": 5,
   "id": "5b1bd33e",
   "metadata": {},
   "outputs": [
    {
     "name": "stdout",
     "output_type": "stream",
     "text": [
      "(7058, 44) (7058, 57)\n"
     ]
    },
    {
     "name": "stderr",
     "output_type": "stream",
     "text": [
      "/Users/Geetesh/anaconda3/envs/work/lib/python3.11/site-packages/sklearn/preprocessing/_encoders.py:972: FutureWarning: `sparse` was renamed to `sparse_output` in version 1.2 and will be removed in 1.4. `sparse_output` is ignored unless you leave `sparse` to its default value.\n",
      "  warnings.warn(\n",
      "/Users/Geetesh/anaconda3/envs/work/lib/python3.11/site-packages/sklearn/preprocessing/_encoders.py:972: FutureWarning: `sparse` was renamed to `sparse_output` in version 1.2 and will be removed in 1.4. `sparse_output` is ignored unless you leave `sparse` to its default value.\n",
      "  warnings.warn(\n",
      "/Users/Geetesh/anaconda3/envs/work/lib/python3.11/site-packages/sklearn/preprocessing/_encoders.py:972: FutureWarning: `sparse` was renamed to `sparse_output` in version 1.2 and will be removed in 1.4. `sparse_output` is ignored unless you leave `sparse` to its default value.\n",
      "  warnings.warn(\n",
      "/Users/Geetesh/anaconda3/envs/work/lib/python3.11/site-packages/sklearn/preprocessing/_encoders.py:972: FutureWarning: `sparse` was renamed to `sparse_output` in version 1.2 and will be removed in 1.4. `sparse_output` is ignored unless you leave `sparse` to its default value.\n",
      "  warnings.warn(\n",
      "/Users/Geetesh/anaconda3/envs/work/lib/python3.11/site-packages/sklearn/preprocessing/_encoders.py:972: FutureWarning: `sparse` was renamed to `sparse_output` in version 1.2 and will be removed in 1.4. `sparse_output` is ignored unless you leave `sparse` to its default value.\n",
      "  warnings.warn(\n"
     ]
    }
   ],
   "source": [
    "from preproc import Dataset\n",
    "df = pd.read_csv(\"./TD_HOSPITAL_TRAIN.csv\")\n",
    "cleaned_data = Dataset(df).data\n",
    "print(df.shape,cleaned_data.shape)"
   ]
  },
  {
   "cell_type": "code",
   "execution_count": 6,
   "id": "fa7fc55a",
   "metadata": {},
   "outputs": [
    {
     "name": "stdout",
     "output_type": "stream",
     "text": [
      "Epoch 1/50\n",
      "101/177 [================>.............] - ETA: 0s - loss: 0.4352 - accuracy: 0.7887 "
     ]
    },
    {
     "name": "stderr",
     "output_type": "stream",
     "text": [
      "2023-10-28 20:21:10.774730: W tensorflow/tsl/platform/profile_utils/cpu_utils.cc:128] Failed to get CPU frequency: 0 Hz\n"
     ]
    },
    {
     "name": "stdout",
     "output_type": "stream",
     "text": [
      "177/177 [==============================] - 0s 906us/step - loss: 0.3928 - accuracy: 0.8128 - val_loss: 0.3892 - val_accuracy: 0.8117\n",
      "Epoch 2/50\n",
      "177/177 [==============================] - 0s 572us/step - loss: 0.3085 - accuracy: 0.8603 - val_loss: 0.3661 - val_accuracy: 0.8249\n",
      "Epoch 3/50\n",
      "177/177 [==============================] - 0s 581us/step - loss: 0.2813 - accuracy: 0.8700 - val_loss: 0.3275 - val_accuracy: 0.8391\n",
      "Epoch 4/50\n",
      "177/177 [==============================] - 0s 561us/step - loss: 0.2578 - accuracy: 0.8852 - val_loss: 0.3218 - val_accuracy: 0.8320\n",
      "Epoch 5/50\n",
      "177/177 [==============================] - 0s 569us/step - loss: 0.2402 - accuracy: 0.8893 - val_loss: 0.3462 - val_accuracy: 0.8279\n",
      "Epoch 6/50\n",
      "177/177 [==============================] - 0s 572us/step - loss: 0.2243 - accuracy: 0.9035 - val_loss: 0.3096 - val_accuracy: 0.8462\n",
      "Epoch 7/50\n",
      "177/177 [==============================] - 0s 573us/step - loss: 0.2064 - accuracy: 0.9095 - val_loss: 0.3399 - val_accuracy: 0.8401\n",
      "Epoch 8/50\n",
      "177/177 [==============================] - 0s 601us/step - loss: 0.1957 - accuracy: 0.9129 - val_loss: 0.3344 - val_accuracy: 0.8502\n",
      "Epoch 9/50\n",
      "177/177 [==============================] - 0s 567us/step - loss: 0.1853 - accuracy: 0.9221 - val_loss: 0.3226 - val_accuracy: 0.8472\n",
      "Epoch 10/50\n",
      "177/177 [==============================] - 0s 568us/step - loss: 0.1707 - accuracy: 0.9318 - val_loss: 0.3498 - val_accuracy: 0.8441\n",
      "Epoch 11/50\n",
      "177/177 [==============================] - 0s 563us/step - loss: 0.1585 - accuracy: 0.9330 - val_loss: 0.3602 - val_accuracy: 0.8472\n",
      "Epoch 12/50\n",
      "177/177 [==============================] - 0s 562us/step - loss: 0.1436 - accuracy: 0.9417 - val_loss: 0.3668 - val_accuracy: 0.8472\n",
      "Epoch 13/50\n",
      "177/177 [==============================] - 0s 560us/step - loss: 0.1344 - accuracy: 0.9451 - val_loss: 0.3871 - val_accuracy: 0.8472\n",
      "Epoch 14/50\n",
      "177/177 [==============================] - 0s 562us/step - loss: 0.1203 - accuracy: 0.9541 - val_loss: 0.3864 - val_accuracy: 0.8462\n",
      "Epoch 15/50\n",
      "177/177 [==============================] - 0s 577us/step - loss: 0.1073 - accuracy: 0.9621 - val_loss: 0.4163 - val_accuracy: 0.8350\n",
      "Epoch 16/50\n",
      "177/177 [==============================] - 0s 562us/step - loss: 0.0984 - accuracy: 0.9630 - val_loss: 0.4473 - val_accuracy: 0.8350\n",
      "Epoch 17/50\n",
      "177/177 [==============================] - 0s 563us/step - loss: 0.0884 - accuracy: 0.9688 - val_loss: 0.4398 - val_accuracy: 0.8462\n",
      "Epoch 18/50\n",
      "177/177 [==============================] - 0s 562us/step - loss: 0.0796 - accuracy: 0.9731 - val_loss: 0.4765 - val_accuracy: 0.8370\n",
      "Epoch 19/50\n",
      "177/177 [==============================] - 0s 563us/step - loss: 0.0696 - accuracy: 0.9768 - val_loss: 0.5223 - val_accuracy: 0.8330\n",
      "Epoch 20/50\n",
      "177/177 [==============================] - 0s 581us/step - loss: 0.0612 - accuracy: 0.9805 - val_loss: 0.5638 - val_accuracy: 0.8370\n",
      "Epoch 21/50\n",
      "177/177 [==============================] - 0s 568us/step - loss: 0.0574 - accuracy: 0.9810 - val_loss: 0.5803 - val_accuracy: 0.8401\n",
      "Epoch 22/50\n",
      "177/177 [==============================] - 0s 562us/step - loss: 0.0599 - accuracy: 0.9809 - val_loss: 0.5986 - val_accuracy: 0.8360\n",
      "Epoch 23/50\n",
      "177/177 [==============================] - 0s 554us/step - loss: 0.0535 - accuracy: 0.9851 - val_loss: 0.6073 - val_accuracy: 0.8411\n",
      "Epoch 24/50\n",
      "177/177 [==============================] - 0s 560us/step - loss: 0.0386 - accuracy: 0.9906 - val_loss: 0.6391 - val_accuracy: 0.8381\n",
      "Epoch 25/50\n",
      "177/177 [==============================] - 0s 569us/step - loss: 0.0336 - accuracy: 0.9926 - val_loss: 0.6446 - val_accuracy: 0.8411\n",
      "Epoch 26/50\n",
      "177/177 [==============================] - 0s 581us/step - loss: 0.0346 - accuracy: 0.9917 - val_loss: 0.6918 - val_accuracy: 0.8391\n",
      "Epoch 27/50\n",
      "177/177 [==============================] - 0s 578us/step - loss: 0.0421 - accuracy: 0.9867 - val_loss: 0.6889 - val_accuracy: 0.8391\n",
      "Epoch 28/50\n",
      "177/177 [==============================] - 0s 573us/step - loss: 0.0291 - accuracy: 0.9929 - val_loss: 0.7150 - val_accuracy: 0.8441\n",
      "Epoch 29/50\n",
      "177/177 [==============================] - 0s 577us/step - loss: 0.0245 - accuracy: 0.9959 - val_loss: 0.7456 - val_accuracy: 0.8350\n",
      "Epoch 30/50\n",
      "177/177 [==============================] - 0s 578us/step - loss: 0.0169 - accuracy: 0.9973 - val_loss: 0.7614 - val_accuracy: 0.8411\n",
      "Epoch 31/50\n",
      "177/177 [==============================] - 0s 576us/step - loss: 0.0161 - accuracy: 0.9977 - val_loss: 0.8089 - val_accuracy: 0.8492\n",
      "Epoch 32/50\n",
      "177/177 [==============================] - 0s 563us/step - loss: 0.0127 - accuracy: 0.9984 - val_loss: 0.8115 - val_accuracy: 0.8401\n",
      "Epoch 33/50\n",
      "177/177 [==============================] - 0s 568us/step - loss: 0.0121 - accuracy: 0.9991 - val_loss: 0.8575 - val_accuracy: 0.8381\n",
      "Epoch 34/50\n",
      "177/177 [==============================] - 0s 572us/step - loss: 0.0171 - accuracy: 0.9961 - val_loss: 0.8241 - val_accuracy: 0.8381\n",
      "Epoch 35/50\n",
      "177/177 [==============================] - 0s 580us/step - loss: 0.0105 - accuracy: 0.9989 - val_loss: 0.8931 - val_accuracy: 0.8401\n",
      "Epoch 36/50\n",
      "177/177 [==============================] - 0s 571us/step - loss: 0.0084 - accuracy: 0.9996 - val_loss: 0.9447 - val_accuracy: 0.8401\n",
      "Epoch 37/50\n",
      "177/177 [==============================] - 0s 564us/step - loss: 0.0250 - accuracy: 0.9927 - val_loss: 0.9252 - val_accuracy: 0.8451\n",
      "Epoch 38/50\n",
      "177/177 [==============================] - 0s 560us/step - loss: 0.0818 - accuracy: 0.9740 - val_loss: 0.9459 - val_accuracy: 0.8340\n",
      "Epoch 39/50\n",
      "177/177 [==============================] - 0s 565us/step - loss: 0.0520 - accuracy: 0.9828 - val_loss: 0.8681 - val_accuracy: 0.8401\n",
      "Epoch 40/50\n",
      "177/177 [==============================] - 0s 572us/step - loss: 0.0147 - accuracy: 0.9982 - val_loss: 0.8925 - val_accuracy: 0.8381\n",
      "Epoch 41/50\n",
      "177/177 [==============================] - 0s 566us/step - loss: 0.0084 - accuracy: 0.9998 - val_loss: 0.9400 - val_accuracy: 0.8381\n",
      "Epoch 42/50\n",
      "177/177 [==============================] - 0s 559us/step - loss: 0.0055 - accuracy: 0.9995 - val_loss: 0.9714 - val_accuracy: 0.8401\n",
      "Epoch 43/50\n",
      "177/177 [==============================] - 0s 576us/step - loss: 0.0046 - accuracy: 1.0000 - val_loss: 0.9934 - val_accuracy: 0.8411\n",
      "Epoch 44/50\n",
      "177/177 [==============================] - 0s 581us/step - loss: 0.0042 - accuracy: 0.9998 - val_loss: 1.0177 - val_accuracy: 0.8431\n",
      "Epoch 45/50\n",
      "177/177 [==============================] - 0s 577us/step - loss: 0.0034 - accuracy: 1.0000 - val_loss: 1.0197 - val_accuracy: 0.8401\n",
      "Epoch 46/50\n",
      "177/177 [==============================] - 0s 558us/step - loss: 0.0033 - accuracy: 1.0000 - val_loss: 1.0680 - val_accuracy: 0.8441\n",
      "Epoch 47/50\n",
      "177/177 [==============================] - 0s 577us/step - loss: 0.0026 - accuracy: 1.0000 - val_loss: 1.0617 - val_accuracy: 0.8391\n",
      "Epoch 48/50\n",
      "177/177 [==============================] - 0s 571us/step - loss: 0.0024 - accuracy: 1.0000 - val_loss: 1.0925 - val_accuracy: 0.8421\n",
      "Epoch 49/50\n",
      "177/177 [==============================] - 0s 565us/step - loss: 0.0024 - accuracy: 1.0000 - val_loss: 1.1040 - val_accuracy: 0.8381\n",
      "Epoch 50/50\n",
      "177/177 [==============================] - 0s 575us/step - loss: 0.0021 - accuracy: 1.0000 - val_loss: 1.1144 - val_accuracy: 0.8370\n",
      "14/14 [==============================] - 0s 385us/step - loss: 0.7988 - accuracy: 0.8585\n",
      "Test accuracy: 0.8584905862808228\n"
     ]
    },
    {
     "data": {
      "image/png": "[encoded data removed]",
      "text/plain": [
       "<Figure size 640x480 with 1 Axes>"
      ]
     },
     "metadata": {},
     "output_type": "display_data"
    }
   ],
   "source": [
    "run_model1(cleaned_data)"
   ]
  },
  {
   "cell_type": "code",
   "execution_count": null,
   "id": "3bdc62e0",
   "metadata": {},
   "outputs": [],
   "source": []
  }
 ],
 "metadata": {
  "kernelspec": {
   "display_name": "Python 3 (ipykernel)",
   "language": "python",
   "name": "python3"
  },
  "language_info": {
   "codemirror_mode": {
    "name": "ipython",
    "version": 3
   },
   "file_extension": ".py",
   "mimetype": "text/x-python",
   "name": "python",
   "nbconvert_exporter": "python",
   "pygments_lexer": "ipython3",
   "version": "3.11.5"
  }
 },
 "nbformat": 4,
 "nbformat_minor": 5
}
